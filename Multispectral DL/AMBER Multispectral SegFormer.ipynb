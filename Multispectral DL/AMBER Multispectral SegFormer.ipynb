{
 "cells": [
  {
   "cell_type": "markdown",
   "id": "06046e1d",
   "metadata": {},
   "source": [
    "AMBER Multispectral SegFormer"
   ]
  },
  {
   "cell_type": "code",
   "execution_count": 1,
   "id": "c681c161",
   "metadata": {},
   "outputs": [],
   "source": [
    "#Install libraries\n",
    "import warnings\n",
    "warnings.filterwarnings(\"ignore\")\n",
    "\n",
    "import os\n",
    "import sys\n",
    "import random\n",
    "import numpy as np\n",
    "from tqdm import tqdm\n",
    "import time\n",
    "import matplotlib.pyplot as plt\n",
    "from datetime import datetime\n",
    "\n",
    "def present_time():\n",
    "        return datetime.now().strftime('%Y%m%d_%H%M%S')\n",
    "\n",
    "\n",
    "\n",
    "import torch\n",
    "import torch.nn as nn\n",
    "import torch.optim as optim\n",
    "from torchvision import datasets, transforms\n",
    "from torch.utils.data import DataLoader, random_split\n",
    "import torch.nn.functional as F"
   ]
  },
  {
   "cell_type": "markdown",
   "id": "8d9a968e",
   "metadata": {},
   "source": [
    "Patch Embeddings\n",
    "Input image = D x H x W\n",
    "\n",
    "\n",
    "Overlapped Patch mergings\n",
    "K = three dimensional kernel size\n",
    "S = stride between two adjacent patches\n",
    "P = padding size\n",
    "\n",
    "K=3, S=1, P=1; and K=3, S=2, P=2 to perform overlapping patch merging"
   ]
  },
  {
   "cell_type": "code",
   "execution_count": null,
   "id": "68ad8fa0",
   "metadata": {},
   "outputs": [],
   "source": []
  },
  {
   "cell_type": "markdown",
   "id": "38dd716a",
   "metadata": {},
   "source": [
    "Multi-Head self attention module\n",
    "The heads Q, K, V have the same dimensions N x C, where N = D x H x W is the length of the sequence\n",
    "\n",
    "\n",
    "Uses the same approach as original SegFormer paper.\n",
    "Simplifies self-attention mechanism from O(N^2) to O(N^2/R), where R = [64,16,4,1] from stage 1 to stage 4."
   ]
  },
  {
   "cell_type": "code",
   "execution_count": null,
   "id": "b2094bb9",
   "metadata": {},
   "outputs": [],
   "source": []
  },
  {
   "cell_type": "markdown",
   "id": "10328836",
   "metadata": {},
   "source": [
    "Mix-FFN"
   ]
  },
  {
   "cell_type": "code",
   "execution_count": null,
   "id": "e3ab734c",
   "metadata": {},
   "outputs": [],
   "source": []
  },
  {
   "cell_type": "markdown",
   "id": "e361a76d",
   "metadata": {},
   "source": [
    "Lightweight All-MLP decoder"
   ]
  },
  {
   "cell_type": "code",
   "execution_count": null,
   "id": "a9fbf388",
   "metadata": {},
   "outputs": [],
   "source": []
  }
 ],
 "metadata": {
  "kernelspec": {
   "display_name": "dl",
   "language": "python",
   "name": "python3"
  },
  "language_info": {
   "codemirror_mode": {
    "name": "ipython",
    "version": 3
   },
   "file_extension": ".py",
   "mimetype": "text/x-python",
   "name": "python",
   "nbconvert_exporter": "python",
   "pygments_lexer": "ipython3",
   "version": "3.10.18"
  }
 },
 "nbformat": 4,
 "nbformat_minor": 5
}
