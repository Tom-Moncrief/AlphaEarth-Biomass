{
 "cells": [
  {
   "cell_type": "markdown",
   "id": "8cb2aba2",
   "metadata": {},
   "source": [
    "# PyTorch based CNN and ViT Hybrid for image classification"
   ]
  },
  {
   "cell_type": "markdown",
   "id": "94789bfa",
   "metadata": {},
   "source": [
    "### 1. Import required libraries"
   ]
  },
  {
   "cell_type": "code",
   "execution_count": 1,
   "id": "dec39307",
   "metadata": {},
   "outputs": [],
   "source": [
    "import warnings\n",
    "warnings.filterwarnings(\"ignore\")\n",
    "\n",
    "import os\n",
    "import sys\n",
    "import random\n",
    "import numpy as np\n",
    "from tqdm import tqdm\n",
    "import time\n",
    "import matplotlib.pyplot as plt\n",
    "from datetime import datetime\n",
    "\n",
    "def present_time():\n",
    "        return datetime.now().strftime('%Y%m%d_%H%M%S')\n",
    "\n",
    "\n",
    "\n",
    "import torch\n",
    "import torch.nn as nn\n",
    "import torch.optim as optim\n",
    "from torchvision import datasets, transforms\n",
    "from torch.utils.data import DataLoader, random_split\n",
    "import torch.nn.functional as F"
   ]
  },
  {
   "cell_type": "markdown",
   "id": "94710848",
   "metadata": {},
   "source": [
    "### 2. Load CNN model"
   ]
  },
  {
   "cell_type": "code",
   "execution_count": 2,
   "id": "da47bd90",
   "metadata": {},
   "outputs": [],
   "source": [
    "pytorch_state_dict_name = \"cnn_pytorch_state_dict.pth\"\n",
    "pytorch_state_dict_path = os.path.join(os.getcwd(), \"..\", \"models\", pytorch_state_dict_name)"
   ]
  },
  {
   "cell_type": "markdown",
   "id": "bd0e4b8d",
   "metadata": {},
   "source": [
    "### 3. Defining pre-trained CNN"
   ]
  },
  {
   "cell_type": "code",
   "execution_count": 12,
   "id": "38adb724",
   "metadata": {},
   "outputs": [],
   "source": [
    "class ConvNet(nn.Module):\n",
    "    ''' \n",
    "    Class to define the architecture same as the imported pre-trained CNN model\n",
    "    '''\n",
    "    def __init__(self, num_classes):\n",
    "        super().__init__()\n",
    "        self.features = nn.Sequential(\n",
    "            nn.Conv2d(3, 32, 5, padding=2), nn.ReLU(), nn.MaxPool2d(2), nn.BatchNorm2d(32),\n",
    "            nn.Conv2d(32, 64, 5, padding=2), nn.ReLU(), nn.MaxPool2d(2), nn.BatchNorm2d(64),\n",
    "            nn.Conv2d(64, 128, 5, padding=2), nn.ReLU(), nn.MaxPool2d(2), nn.BatchNorm2d(128),\n",
    "            nn.Conv2d(128, 256, 5, padding=2), nn.ReLU(), nn.MaxPool2d(2), nn.BatchNorm2d(256),\n",
    "            nn.Conv2d(256, 512, 5, padding=2), nn.ReLU(), nn.MaxPool2d(2), nn.BatchNorm2d(512),\n",
    "            nn.Conv2d(512, 1024, 5, padding=2), nn.ReLU(), nn.MaxPool2d(2), nn.BatchNorm2d(1024)\n",
    "        )\n",
    "\n",
    "    def forward_features(self, x):\n",
    "        return self.features(x)      # (B,1024,H,W)\n"
   ]
  },
  {
   "cell_type": "markdown",
   "id": "92d550e7",
   "metadata": {},
   "source": [
    "### 4. Vision Transformers"
   ]
  },
  {
   "cell_type": "markdown",
   "id": "138c28d5",
   "metadata": {},
   "source": [
    "### 4.1 Patch embedding\n",
    " The **PatchEmbed** class implements the **interface** between the CNN feature extractor and the Vision Transformer, converting spatial feature maps into a sequence of tokens suitable for self-attention processing.\n",
    "\n",
    " The transformation process involves three key steps:\n",
    "1. **Channel projection**: `nn.Conv2d(in_ch, embed_dim, kernel_size=1)` reduces or expands the channel dimension from 1024 to the preferred embedding size\n",
    "2. **Spatial flattening**: `.flatten(2)` collapses the height and width dimensions (H×W) into a single sequence dimension\n",
    "3. **Tensor reshaping**: `.transpose(1,2)` reorders dimensions from (B, D, L) to (B, L, D) where L=H×W represents the sequence length\n",
    "\n",
    "**Integration with hybrid architecture**\n",
    "\n",
    "In the context of the hybrid model, this patch embedding serves as the **bridge** between local CNN features and global transformer processing. Since the CNN has already extracted meaningful local patterns, the patch embedding focuses on format conversion rather than feature extraction. This design is more **efficient** than traditional ViT patch embedding since the CNN has already performed the heavy lifting of feature extraction from raw pixels.\n",
    "\n",
    "The **output tensor** (B, L, D) represents a batch of sequences where each sequence contains L tokens (corresponding to spatial locations in the feature map) with D-dimensional embeddings ready for transformer processing."
   ]
  },
  {
   "cell_type": "code",
   "execution_count": 13,
   "id": "bf4b58bd",
   "metadata": {},
   "outputs": [],
   "source": [
    "class PatchEmbed(nn.Module):\n",
    "    def __init__(self, input_channel=1024, embed_dim=768):\n",
    "        super().__init__()\n",
    "        self.proj = nn.Conv2d(input_channel, embed_dim, kernel_size=1)  # 1×1 conv\n",
    "    def forward(self, x):\n",
    "        x = self.proj(x).flatten(2).transpose(1, 2)  # (B,L,D)\n",
    "        return x"
   ]
  },
  {
   "cell_type": "markdown",
   "id": "1d9b865f",
   "metadata": {},
   "source": [
    "### 4.2 Multi-head self-attention (MHSA) module\n",
    "\n",
    "The **MHSA** class implements the self-attention mechanism that enables the Vision Transformer to model long-range dependencies and global context across all spatial locations in the feature map.\n",
    "\n",
    "The implementation follows the scaled dot-product attention formula: **Attention(Q,K,V) = softmax(QK^T/√d)V**, where Q, K, and V represent query, key, and value matrices, respectively. The scaling factor 1/sqrt(d) prevents the dot products from becoming too large, which would push the softmax function into regions with extremely small gradients.\n",
    "\n",
    "The multi-head mechanism splits the embedding dimension across multiple attention heads, allowing the model to attend to different types of relationships simultaneously. \n",
    "\n",
    "### Key implementation details:\n",
    "\n",
    "- **Unified QKV projection**: A single linear layer `nn.Linear(dim, dim*3)` generates Q, K, and V matrices efficiently, reducing memory overhead compared to separate projections\n",
    "- **Head reshaping**: The tensor is reshaped from (B, N, D) to (B, heads, N, d) where d = D/heads, enabling parallel processing across heads\n",
    "- **Attention computation**: Matrix multiplication `torch.matmul(q, k.transpose(-2, -1))` computes attention scores, followed by scaling and softmax normalization\n",
    "- **Dropout regularization**: Two dropout layers prevent overfitting - one on attention weights and one on the final output\n",
    "\n",
    "\n",
    "Unlike CNNs, which have limited receptive fields, self-attention allows every token to interact directly with every other token in a single operation. This enables the model to **capture long-range spatial dependencies** that might be missed by purely convolutional approaches. \n",
    "\n",
    "#### In the hybrid architecture, this global modeling complements the local feature extraction performed by the CNN backbone.\n",
    "\n",
    "The attention weights provide interpretability, showing which spatial locations the model focuses on when making predictions. This component is valuable for both performance and explainability.\n"
   ]
  },
  {
   "cell_type": "code",
   "execution_count": 14,
   "id": "4680a083",
   "metadata": {},
   "outputs": [],
   "source": [
    "class MHSA(nn.Module):\n",
    "    def __init__(self, dim, heads=8, dropout=0.):\n",
    "        super().__init__()\n",
    "        self.heads = heads\n",
    "        self.scale = (dim // heads) ** -0.5\n",
    "        self.qkv = nn.Linear(dim, dim * 3)\n",
    "        self.attn_drop = nn.Dropout(dropout)\n",
    "        self.proj = nn.Linear(dim, dim)\n",
    "        self.proj_drop = nn.Dropout(dropout)\n",
    "    def forward(self, x):\n",
    "        B, N, D = x.shape\n",
    "        q, k, v = self.qkv(x).chunk(3, dim=-1)\n",
    "        q = q.reshape(B, N, self.heads, -1).transpose(1, 2)  # (B, heads, N, d)\n",
    "        k = k.reshape(B, N, self.heads, -1).transpose(1, 2)\n",
    "        v = v.reshape(B, N, self.heads, -1).transpose(1, 2)\n",
    "        attn = torch.matmul(q, k.transpose(-2, -1)) * self.scale\n",
    "        attn = self.attn_drop(attn.softmax(dim=-1))\n",
    "        x = torch.matmul(attn, v).transpose(1, 2).reshape(B, N, D)\n",
    "        return self.proj_drop(self.proj(x))"
   ]
  },
  {
   "cell_type": "markdown",
   "id": "161d47af",
   "metadata": {},
   "source": [
    "### 4.3 Transformer block\n",
    "This code defines a building block used in modern deep learning models, especially in Vision Transformers. The class is called TransformerBlock, and it is responsible for helping the model “pay attention” to the most important parts of its input and improve the final predictions.\n",
    "\n",
    "Let’s break down what happens inside:\n",
    "\n",
    "**Layer normalization (nn.LayerNorm):** This helps stabilize and speed up training by normalizing each row of the input data, which is useful before applying attention or a neural network layer.\n",
    "\n",
    "**Attention layer (MHSA):** This is the “Multi-Head Self Attention” block. It enables the model to look at all positions in the sequence (or image patches) at once, figuring out which ones are most important for each output. It’s like giving the model the power to focus on the key parts of an image or sentence.\n",
    "\n",
    "**MLP (nn.Sequential):** This is a **Multi-Layer Perceptron** or a mini neural network, made up of linear (fully connected) layers, a special activation (GELU), and dropout for regularization. This MLP has:\n",
    "- One linear layer that expands the input dimension by mlp_ratio (for example, 4× wider).\n",
    "- A GELU activation function (a nonlinear operation, similar to ReLU).\n",
    "- Dropout for regularization (helps prevent overfitting).\n",
    "- Another linear layer that shrinks the data back to the original dimension.\n",
    "- Another dropout layer.\n",
    "Here, MLP is designed to help the model learn better representations by combining and transforming the information after the attention step.\n",
    "\n",
    "**Skip/Residual connections (x + ...):** These connections support effective and stable training for deep neural networks by keeping pathways open for both forward information flow and backward gradient flow, making deep architectures such as transformers possible and practical. In transformers, skip connections are placed around both the attention and feedforward (MLP) sub-layers in each block. This stabilizes training of these very deep, stackable models, improves convergence speed, and lets them scale to larger datasets and more complex tasks.\n",
    "\n",
    "In summary, this block helps models understand relationships in their input data, making them more powerful for tasks such as image and language understanding!\n"
   ]
  },
  {
   "cell_type": "code",
   "execution_count": 15,
   "id": "8402e809",
   "metadata": {},
   "outputs": [],
   "source": [
    "class TransformerBlock(nn.Module):\n",
    "    def __init__(self, dim, heads, mlp_ratio=4., dropout=0.):\n",
    "        super().__init__()\n",
    "        self.norm1 = nn.LayerNorm(dim)\n",
    "        self.attn  = MHSA(dim, heads, dropout)\n",
    "        self.norm2 = nn.LayerNorm(dim)\n",
    "        self.mlp   = nn.Sequential(\n",
    "                                    nn.Linear(dim, int(dim * mlp_ratio)),\n",
    "                                    nn.GELU(), nn.Dropout(dropout),\n",
    "                                    nn.Linear(int(dim * mlp_ratio), dim),\n",
    "                                    nn.Dropout(dropout))\n",
    "    def forward(self, x):\n",
    "        x = x + self.attn(self.norm1(x))\n",
    "        x = x + self.mlp(self.norm2(x))\n",
    "        return x"
   ]
  },
  {
   "cell_type": "markdown",
   "id": "e4e650ce",
   "metadata": {},
   "source": [
    "### 4.4  Vision Transformer (ViT) model\n",
    "The **ViT** class represents the complete Vision Transformer implementation, including patch embedding, positional encoding, transformer blocks, and a classification head for global context modeling."
   ]
  },
  {
   "cell_type": "code",
   "execution_count": 16,
   "id": "93c2e487",
   "metadata": {},
   "outputs": [],
   "source": [
    "class ViT(nn.Module):\n",
    "    def __init__(self, in_ch=1024, num_classes=9,\n",
    "                 embed_dim=768, depth=6, heads=8,\n",
    "                 mlp_ratio=4., dropout=0.1, max_tokens=50):\n",
    "        super().__init__()\n",
    "        self.patch = PatchEmbed(in_ch, embed_dim)           # 1×1 conv\n",
    "        self.cls   = nn.Parameter(torch.zeros(1, 1, embed_dim))\n",
    "        self.pos   = nn.Parameter(torch.randn(1, max_tokens, embed_dim))\n",
    "        self.blocks = nn.ModuleList([\n",
    "            TransformerBlock(embed_dim, heads, mlp_ratio, dropout)\n",
    "            for _ in range(depth)])\n",
    "        self.norm = nn.LayerNorm(embed_dim)\n",
    "        self.head = nn.Linear(embed_dim, num_classes)\n",
    "\n",
    "    def forward(self, x):                          # x: (B,C,H,W)\n",
    "        x = self.patch(x)                          # (B,L,D)\n",
    "        B, L, _ = x.shape\n",
    "        cls = self.cls.expand(B, -1, -1)           # (B,1,D)\n",
    "        x = torch.cat((cls, x), 1)                 # (B,L+1,D)\n",
    "        x = x + self.pos[:, :L + 1]                # match seq-len\n",
    "        for blk in self.blocks:\n",
    "            x = blk(x)\n",
    "        return self.head(self.norm(x)[:, 0])       # CLS token"
   ]
  },
  {
   "cell_type": "markdown",
   "id": "4e8c3f01",
   "metadata": {},
   "source": [
    "### 5. CNN-ViT hybrid model\n",
    "The forward pass implements a **two-stage forward pass pipeline**:\n",
    "1. **Local feature extraction**: `self.cnn.forward_features(x)` processes the input image through the CNN backbone, extracting hierarchical local features and reducing spatial resolution while increasing semantic depth.\n",
    "2. **Global context modeling**: `self.vit(features)` takes the CNN feature map and processes it through the Vision Transformer for global reasoning and classification."
   ]
  },
  {
   "cell_type": "code",
   "execution_count": 17,
   "id": "adae6d5d",
   "metadata": {},
   "outputs": [],
   "source": [
    "class CNN_ViT_Hybrid(nn.Module):\n",
    "    def __init__(self, num_classes=2, embed_dim=768, depth=6, heads=8):\n",
    "        super().__init__()\n",
    "        self.cnn = ConvNet(num_classes)            # load weights later\n",
    "        self.vit = ViT(num_classes=num_classes,\n",
    "                       embed_dim=embed_dim,\n",
    "                       depth=depth,\n",
    "                       heads=heads)\n",
    "    def forward(self, x):\n",
    "        return self.vit(self.cnn.forward_features(x))"
   ]
  },
  {
   "cell_type": "markdown",
   "id": "6711f104",
   "metadata": {},
   "source": [
    "### 6. Model training and evaluation functions"
   ]
  },
  {
   "cell_type": "code",
   "execution_count": 18,
   "id": "dce76f36",
   "metadata": {},
   "outputs": [],
   "source": [
    "def train(model, loader, optimizer, criterion, device):\n",
    "    model.train()\n",
    "    loss_sum, correct = 0, 0\n",
    "    for batch_idx, (x, y) in enumerate(tqdm(loader, desc=\"Training  \")):\n",
    "        x, y = x.to(device), y.to(device)\n",
    "        optimizer.zero_grad()\n",
    "        out = model(x)\n",
    "        loss = criterion(out, y)\n",
    "        loss.backward()\n",
    "        optimizer.step()\n",
    "        loss_sum += loss.item() * x.size(0)\n",
    "        correct  += (out.argmax(1) == y).sum().item()\n",
    "    return loss_sum / len(loader.dataset), correct / len(loader.dataset)\n",
    "\n",
    "def evaluate(model, loader, criterion, device):\n",
    "    with torch.no_grad():\n",
    "        model.eval()\n",
    "        loss_sum, correct = 0, 0\n",
    "        for batch_idx, (x, y) in enumerate(tqdm(loader, desc=\"Validation\")):\n",
    "            x, y = x.to(device), y.to(device)\n",
    "            out = model(x)\n",
    "            loss = criterion(out, y)\n",
    "            loss_sum += loss.item() * x.size(0)\n",
    "            correct  += (out.argmax(1) == y).sum().item()\n",
    "    return loss_sum / len(loader.dataset), correct / len(loader.dataset)"
   ]
  },
  {
   "cell_type": "markdown",
   "id": "7038674a",
   "metadata": {},
   "source": [
    "### 7.  Data preparation and loading "
   ]
  },
  {
   "cell_type": "code",
   "execution_count": 19,
   "id": "c274da83",
   "metadata": {},
   "outputs": [],
   "source": [
    "dataset_path = r\"C:\\MscR\\Philippines(GEDI_Resampled)\\_combined\"\n",
    "\n",
    "img_size = 64\n",
    "batch_size = 32\n",
    "lr = 0.001\n",
    "num_cls  = 9\n",
    "\n",
    "\n",
    "train_transform = transforms.Compose([transforms.Resize((img_size, img_size)),\n",
    "                                      transforms.RandomRotation(40),\n",
    "                                      transforms.RandomHorizontalFlip(),\n",
    "                                      transforms.RandomAffine(0, shear=0.2),\n",
    "                                      transforms.ToTensor(),\n",
    "                                      transforms.Normalize([0.485, 0.456, 0.406], [0.229, 0.224, 0.225])\n",
    "                                     ])\n",
    "\n",
    "val_transform = transforms.Compose([transforms.Resize((img_size, img_size)),\n",
    "                                    transforms.ToTensor(),\n",
    "                                    transforms.Normalize([0.485, 0.456, 0.406], [0.229, 0.224, 0.225])\n",
    "                                    ])\n",
    "\n",
    "full_dataset = datasets.ImageFolder(dataset_path, transform=train_transform)\n",
    "\n",
    "train_size = int(0.8 * len(full_dataset))\n",
    "val_size = len(full_dataset) - train_size\n",
    "train_dataset, val_dataset = random_split(full_dataset, [train_size, val_size])\n",
    "train_dataset.dataset.transform = train_transform\n",
    "val_dataset.dataset.transform = val_transform\n",
    "\n",
    "train_loader = DataLoader(train_dataset, \n",
    "                          batch_size=batch_size,\n",
    "                          shuffle=True,\n",
    "                         )\n",
    "\n",
    "val_loader = DataLoader(val_dataset,\n",
    "                        batch_size=batch_size,\n",
    "                        shuffle=False,\n",
    "                       )"
   ]
  },
  {
   "cell_type": "markdown",
   "id": "be302919",
   "metadata": {},
   "source": [
    "### 8. Model initialization and training"
   ]
  },
  {
   "cell_type": "code",
   "execution_count": 20,
   "id": "46d3df23",
   "metadata": {},
   "outputs": [
    {
     "name": "stdout",
     "output_type": "stream",
     "text": [
      "Training the model on cuda\n",
      "epochs:30 | batch:32 | attn_heads:6 | depth:3 | embed_dim:768\n",
      "\n",
      "Epoch 01/30 started at 20251028_175852 (UTC)\n"
     ]
    },
    {
     "name": "stderr",
     "output_type": "stream",
     "text": [
      "Training  : 100%|████████████████████████████████████████████████████████████████| 16172/16172 [25:05<00:00, 10.74it/s]\n",
      "Validation: 100%|██████████████████████████████████████████████████████████████████| 4043/4043 [03:36<00:00, 18.67it/s]\n"
     ]
    },
    {
     "name": "stdout",
     "output_type": "stream",
     "text": [
      "Epoch 01 | train loss 1.8899 acc 0.2749 | val loss 1.8379 acc 0.2885 | in  1722.38s\n",
      "Current loss (1.8379) lower than previous best loss (inf), Saving current model state\n",
      "\n",
      "Epoch 02/30 started at 20251028_182735 (UTC)\n"
     ]
    },
    {
     "name": "stderr",
     "output_type": "stream",
     "text": [
      "Training  : 100%|████████████████████████████████████████████████████████████████| 16172/16172 [24:29<00:00, 11.01it/s]\n",
      "Validation: 100%|██████████████████████████████████████████████████████████████████| 4043/4043 [03:31<00:00, 19.15it/s]\n"
     ]
    },
    {
     "name": "stdout",
     "output_type": "stream",
     "text": [
      "Epoch 02 | train loss 1.8410 acc 0.2883 | val loss 1.8411 acc 0.2887 | in  1680.39s\n",
      "\n",
      "Epoch 03/30 started at 20251028_185535 (UTC)\n"
     ]
    },
    {
     "name": "stderr",
     "output_type": "stream",
     "text": [
      "Training  : 100%|████████████████████████████████████████████████████████████████| 16172/16172 [24:12<00:00, 11.13it/s]\n",
      "Validation: 100%|██████████████████████████████████████████████████████████████████| 4043/4043 [03:29<00:00, 19.25it/s]\n"
     ]
    },
    {
     "name": "stdout",
     "output_type": "stream",
     "text": [
      "Epoch 03 | train loss 1.8226 acc 0.2941 | val loss 1.8119 acc 0.2948 | in  1662.73s\n",
      "Current loss (1.8119) lower than previous best loss (1.8379), Saving current model state\n",
      "\n",
      "Epoch 04/30 started at 20251028_192318 (UTC)\n"
     ]
    },
    {
     "name": "stderr",
     "output_type": "stream",
     "text": [
      "Training  : 100%|████████████████████████████████████████████████████████████████| 16172/16172 [24:25<00:00, 11.03it/s]\n",
      "Validation: 100%|██████████████████████████████████████████████████████████████████| 4043/4043 [03:31<00:00, 19.13it/s]\n"
     ]
    },
    {
     "name": "stdout",
     "output_type": "stream",
     "text": [
      "Epoch 04 | train loss 1.8215 acc 0.2934 | val loss 1.8008 acc 0.2977 | in  1677.11s\n",
      "Current loss (1.8008) lower than previous best loss (1.8119), Saving current model state\n",
      "\n",
      "Epoch 05/30 started at 20251028_195115 (UTC)\n"
     ]
    },
    {
     "name": "stderr",
     "output_type": "stream",
     "text": [
      "Training  : 100%|████████████████████████████████████████████████████████████████| 16172/16172 [24:09<00:00, 11.16it/s]\n",
      "Validation: 100%|██████████████████████████████████████████████████████████████████| 4043/4043 [03:30<00:00, 19.18it/s]\n"
     ]
    },
    {
     "name": "stdout",
     "output_type": "stream",
     "text": [
      "Epoch 05 | train loss 1.8056 acc 0.2971 | val loss 1.7919 acc 0.2992 | in  1660.32s\n",
      "Current loss (1.7919) lower than previous best loss (1.8008), Saving current model state\n",
      "\n",
      "Epoch 06/30 started at 20251028_201856 (UTC)\n"
     ]
    },
    {
     "name": "stderr",
     "output_type": "stream",
     "text": [
      "Training  : 100%|████████████████████████████████████████████████████████████████| 16172/16172 [24:17<00:00, 11.10it/s]\n",
      "Validation: 100%|██████████████████████████████████████████████████████████████████| 4043/4043 [03:37<00:00, 18.63it/s]\n"
     ]
    },
    {
     "name": "stdout",
     "output_type": "stream",
     "text": [
      "Epoch 06 | train loss 1.8033 acc 0.2977 | val loss 1.7926 acc 0.3004 | in  1674.64s\n",
      "\n",
      "Epoch 07/30 started at 20251028_204650 (UTC)\n"
     ]
    },
    {
     "name": "stderr",
     "output_type": "stream",
     "text": [
      "Training  : 100%|████████████████████████████████████████████████████████████████| 16172/16172 [24:16<00:00, 11.10it/s]\n",
      "Validation: 100%|██████████████████████████████████████████████████████████████████| 4043/4043 [03:38<00:00, 18.51it/s]\n"
     ]
    },
    {
     "name": "stdout",
     "output_type": "stream",
     "text": [
      "Epoch 07 | train loss 1.8015 acc 0.2986 | val loss 1.7959 acc 0.2993 | in  1674.93s\n",
      "\n",
      "Epoch 08/30 started at 20251028_211445 (UTC)\n"
     ]
    },
    {
     "name": "stderr",
     "output_type": "stream",
     "text": [
      "Training  : 100%|████████████████████████████████████████████████████████████████| 16172/16172 [23:18<00:00, 11.57it/s]\n",
      "Validation: 100%|██████████████████████████████████████████████████████████████████| 4043/4043 [02:55<00:00, 23.08it/s]\n"
     ]
    },
    {
     "name": "stdout",
     "output_type": "stream",
     "text": [
      "Epoch 08 | train loss 1.7878 acc 0.3013 | val loss 1.7725 acc 0.3069 | in  1573.44s\n",
      "Current loss (1.7725) lower than previous best loss (1.7919), Saving current model state\n",
      "\n",
      "Epoch 09/30 started at 20251028_214059 (UTC)\n"
     ]
    },
    {
     "name": "stderr",
     "output_type": "stream",
     "text": [
      "Training  : 100%|████████████████████████████████████████████████████████████████| 16172/16172 [19:20<00:00, 13.93it/s]\n",
      "Validation: 100%|██████████████████████████████████████████████████████████████████| 4043/4043 [02:16<00:00, 29.69it/s]\n"
     ]
    },
    {
     "name": "stdout",
     "output_type": "stream",
     "text": [
      "Epoch 09 | train loss 1.7974 acc 0.2992 | val loss 1.7818 acc 0.3037 | in  1297.07s\n",
      "\n",
      "Epoch 10/30 started at 20251028_220236 (UTC)\n"
     ]
    },
    {
     "name": "stderr",
     "output_type": "stream",
     "text": [
      "Training  : 100%|████████████████████████████████████████████████████████████████| 16172/16172 [18:21<00:00, 14.69it/s]\n",
      "Validation: 100%|██████████████████████████████████████████████████████████████████| 4043/4043 [02:19<00:00, 28.99it/s]\n"
     ]
    },
    {
     "name": "stdout",
     "output_type": "stream",
     "text": [
      "Epoch 10 | train loss 1.7866 acc 0.3024 | val loss 1.7761 acc 0.3043 | in  1240.49s\n",
      "\n",
      "Epoch 11/30 started at 20251028_222317 (UTC)\n"
     ]
    },
    {
     "name": "stderr",
     "output_type": "stream",
     "text": [
      "Training  : 100%|████████████████████████████████████████████████████████████████| 16172/16172 [18:22<00:00, 14.67it/s]\n",
      "Validation: 100%|██████████████████████████████████████████████████████████████████| 4043/4043 [02:17<00:00, 29.33it/s]\n"
     ]
    },
    {
     "name": "stdout",
     "output_type": "stream",
     "text": [
      "Epoch 11 | train loss 1.7947 acc 0.2995 | val loss 1.7685 acc 0.3057 | in  1239.94s\n",
      "Current loss (1.7685) lower than previous best loss (1.7725), Saving current model state\n",
      "\n",
      "Epoch 12/30 started at 20251028_224357 (UTC)\n"
     ]
    },
    {
     "name": "stderr",
     "output_type": "stream",
     "text": [
      "Training  : 100%|████████████████████████████████████████████████████████████████| 16172/16172 [17:50<00:00, 15.10it/s]\n",
      "Validation: 100%|██████████████████████████████████████████████████████████████████| 4043/4043 [02:15<00:00, 29.92it/s]\n"
     ]
    },
    {
     "name": "stdout",
     "output_type": "stream",
     "text": [
      "Epoch 12 | train loss 1.7834 acc 0.3029 | val loss 1.7713 acc 0.3055 | in  1205.80s\n",
      "\n",
      "Epoch 13/30 started at 20251028_230403 (UTC)\n"
     ]
    },
    {
     "name": "stderr",
     "output_type": "stream",
     "text": [
      "Training  : 100%|████████████████████████████████████████████████████████████████| 16172/16172 [18:13<00:00, 14.79it/s]\n",
      "Validation: 100%|██████████████████████████████████████████████████████████████████| 4043/4043 [02:20<00:00, 28.73it/s]\n"
     ]
    },
    {
     "name": "stdout",
     "output_type": "stream",
     "text": [
      "Epoch 13 | train loss 1.7776 acc 0.3041 | val loss 1.7648 acc 0.3066 | in  1234.44s\n",
      "Current loss (1.7648) lower than previous best loss (1.7685), Saving current model state\n",
      "\n",
      "Epoch 14/30 started at 20251028_232437 (UTC)\n"
     ]
    },
    {
     "name": "stderr",
     "output_type": "stream",
     "text": [
      "Training  : 100%|████████████████████████████████████████████████████████████████| 16172/16172 [18:03<00:00, 14.93it/s]\n",
      "Validation: 100%|██████████████████████████████████████████████████████████████████| 4043/4043 [02:00<00:00, 33.44it/s]\n"
     ]
    },
    {
     "name": "stdout",
     "output_type": "stream",
     "text": [
      "Epoch 14 | train loss 1.7697 acc 0.3067 | val loss 1.7581 acc 0.3091 | in  1203.99s\n",
      "Current loss (1.7581) lower than previous best loss (1.7648), Saving current model state\n",
      "\n",
      "Epoch 15/30 started at 20251028_234441 (UTC)\n"
     ]
    },
    {
     "name": "stderr",
     "output_type": "stream",
     "text": [
      "Training  : 100%|████████████████████████████████████████████████████████████████| 16172/16172 [17:58<00:00, 14.99it/s]\n",
      "Validation: 100%|██████████████████████████████████████████████████████████████████| 4043/4043 [02:16<00:00, 29.66it/s]\n"
     ]
    },
    {
     "name": "stdout",
     "output_type": "stream",
     "text": [
      "Epoch 15 | train loss 1.7676 acc 0.3074 | val loss 1.7588 acc 0.3099 | in  1214.85s\n",
      "\n",
      "Epoch 16/30 started at 20251029_000456 (UTC)\n"
     ]
    },
    {
     "name": "stderr",
     "output_type": "stream",
     "text": [
      "Training  : 100%|████████████████████████████████████████████████████████████████| 16172/16172 [18:18<00:00, 14.72it/s]\n",
      "Validation: 100%|██████████████████████████████████████████████████████████████████| 4043/4043 [02:19<00:00, 28.88it/s]\n"
     ]
    },
    {
     "name": "stdout",
     "output_type": "stream",
     "text": [
      "Epoch 16 | train loss 1.7705 acc 0.3069 | val loss 1.7838 acc 0.3038 | in  1238.91s\n",
      "\n",
      "Epoch 17/30 started at 20251029_002535 (UTC)\n"
     ]
    },
    {
     "name": "stderr",
     "output_type": "stream",
     "text": [
      "Training  : 100%|████████████████████████████████████████████████████████████████| 16172/16172 [17:51<00:00, 15.10it/s]\n",
      "Validation: 100%|██████████████████████████████████████████████████████████████████| 4043/4043 [01:59<00:00, 33.93it/s]\n"
     ]
    },
    {
     "name": "stdout",
     "output_type": "stream",
     "text": [
      "Epoch 17 | train loss 1.7665 acc 0.3076 | val loss 1.7524 acc 0.3106 | in  1190.19s\n",
      "Current loss (1.7524) lower than previous best loss (1.7581), Saving current model state\n",
      "\n",
      "Epoch 18/30 started at 20251029_004526 (UTC)\n"
     ]
    },
    {
     "name": "stderr",
     "output_type": "stream",
     "text": [
      "Training  : 100%|████████████████████████████████████████████████████████████████| 16172/16172 [17:48<00:00, 15.14it/s]\n",
      "Validation: 100%|██████████████████████████████████████████████████████████████████| 4043/4043 [02:14<00:00, 30.14it/s]\n"
     ]
    },
    {
     "name": "stdout",
     "output_type": "stream",
     "text": [
      "Epoch 18 | train loss 1.7568 acc 0.3107 | val loss 1.7457 acc 0.3136 | in  1202.29s\n",
      "Current loss (1.7457) lower than previous best loss (1.7524), Saving current model state\n",
      "\n",
      "Epoch 19/30 started at 20251029_010528 (UTC)\n"
     ]
    },
    {
     "name": "stderr",
     "output_type": "stream",
     "text": [
      "Training  : 100%|████████████████████████████████████████████████████████████████| 16172/16172 [18:13<00:00, 14.79it/s]\n",
      "Validation: 100%|██████████████████████████████████████████████████████████████████| 4043/4043 [02:20<00:00, 28.78it/s]\n"
     ]
    },
    {
     "name": "stdout",
     "output_type": "stream",
     "text": [
      "Epoch 19 | train loss 1.7480 acc 0.3126 | val loss 1.7442 acc 0.3152 | in  1234.25s\n",
      "Current loss (1.7442) lower than previous best loss (1.7457), Saving current model state\n",
      "\n",
      "Epoch 20/30 started at 20251029_012603 (UTC)\n"
     ]
    },
    {
     "name": "stderr",
     "output_type": "stream",
     "text": [
      "Training  : 100%|████████████████████████████████████████████████████████████████| 16172/16172 [18:03<00:00, 14.92it/s]\n",
      "Validation: 100%|██████████████████████████████████████████████████████████████████| 4043/4043 [02:13<00:00, 30.35it/s]\n"
     ]
    },
    {
     "name": "stdout",
     "output_type": "stream",
     "text": [
      "Epoch 20 | train loss 1.7477 acc 0.3135 | val loss 1.7452 acc 0.3142 | in  1217.03s\n",
      "\n",
      "Epoch 21/30 started at 20251029_014620 (UTC)\n"
     ]
    },
    {
     "name": "stderr",
     "output_type": "stream",
     "text": [
      "Training  : 100%|████████████████████████████████████████████████████████████████| 16172/16172 [18:18<00:00, 14.72it/s]\n",
      "Validation: 100%|██████████████████████████████████████████████████████████████████| 4043/4043 [02:14<00:00, 29.98it/s]\n"
     ]
    },
    {
     "name": "stdout",
     "output_type": "stream",
     "text": [
      "Epoch 21 | train loss 1.7468 acc 0.3136 | val loss 1.7437 acc 0.3157 | in  1233.84s\n",
      "Current loss (1.7437) lower than previous best loss (1.7442), Saving current model state\n",
      "\n",
      "Epoch 22/30 started at 20251029_020654 (UTC)\n"
     ]
    },
    {
     "name": "stderr",
     "output_type": "stream",
     "text": [
      "Training  : 100%|████████████████████████████████████████████████████████████████| 16172/16172 [18:20<00:00, 14.70it/s]\n",
      "Validation: 100%|██████████████████████████████████████████████████████████████████| 4043/4043 [02:19<00:00, 29.07it/s]\n"
     ]
    },
    {
     "name": "stdout",
     "output_type": "stream",
     "text": [
      "Epoch 22 | train loss 1.7441 acc 0.3142 | val loss 1.7403 acc 0.3173 | in  1239.30s\n",
      "Current loss (1.7403) lower than previous best loss (1.7437), Saving current model state\n",
      "\n",
      "Epoch 23/30 started at 20251029_022733 (UTC)\n"
     ]
    },
    {
     "name": "stderr",
     "output_type": "stream",
     "text": [
      "Training  : 100%|████████████████████████████████████████████████████████████████| 16172/16172 [18:04<00:00, 14.92it/s]\n",
      "Validation: 100%|██████████████████████████████████████████████████████████████████| 4043/4043 [02:12<00:00, 30.44it/s]\n"
     ]
    },
    {
     "name": "stdout",
     "output_type": "stream",
     "text": [
      "Epoch 23 | train loss 1.7368 acc 0.3159 | val loss 1.7350 acc 0.3173 | in  1216.86s\n",
      "Current loss (1.7350) lower than previous best loss (1.7403), Saving current model state\n",
      "\n",
      "Epoch 24/30 started at 20251029_024750 (UTC)\n"
     ]
    },
    {
     "name": "stderr",
     "output_type": "stream",
     "text": [
      "Training  : 100%|████████████████████████████████████████████████████████████████| 16172/16172 [18:16<00:00, 14.75it/s]\n",
      "Validation: 100%|██████████████████████████████████████████████████████████████████| 4043/4043 [02:15<00:00, 29.87it/s]\n"
     ]
    },
    {
     "name": "stdout",
     "output_type": "stream",
     "text": [
      "Epoch 24 | train loss 1.7306 acc 0.3178 | val loss 1.7378 acc 0.3168 | in  1231.68s\n",
      "\n",
      "Epoch 25/30 started at 20251029_030822 (UTC)\n"
     ]
    },
    {
     "name": "stderr",
     "output_type": "stream",
     "text": [
      "Training  : 100%|████████████████████████████████████████████████████████████████| 16172/16172 [18:12<00:00, 14.81it/s]\n",
      "Validation: 100%|██████████████████████████████████████████████████████████████████| 4043/4043 [02:22<00:00, 28.32it/s]\n"
     ]
    },
    {
     "name": "stdout",
     "output_type": "stream",
     "text": [
      "Epoch 25 | train loss 1.7261 acc 0.3195 | val loss 1.7512 acc 0.3105 | in  1234.98s\n",
      "\n",
      "Epoch 26/30 started at 20251029_032857 (UTC)\n"
     ]
    },
    {
     "name": "stderr",
     "output_type": "stream",
     "text": [
      "Training  : 100%|████████████████████████████████████████████████████████████████| 16172/16172 [17:44<00:00, 15.20it/s]\n",
      "Validation: 100%|██████████████████████████████████████████████████████████████████| 4043/4043 [01:58<00:00, 34.02it/s]\n"
     ]
    },
    {
     "name": "stdout",
     "output_type": "stream",
     "text": [
      "Epoch 26 | train loss 1.7186 acc 0.3216 | val loss 1.7374 acc 0.3155 | in  1182.88s\n",
      "\n",
      "Epoch 27/30 started at 20251029_034840 (UTC)\n"
     ]
    },
    {
     "name": "stderr",
     "output_type": "stream",
     "text": [
      "Training  : 100%|████████████████████████████████████████████████████████████████| 16172/16172 [17:51<00:00, 15.09it/s]\n",
      "Validation: 100%|██████████████████████████████████████████████████████████████████| 4043/4043 [02:24<00:00, 27.90it/s]\n"
     ]
    },
    {
     "name": "stdout",
     "output_type": "stream",
     "text": [
      "Epoch 27 | train loss 1.7097 acc 0.3249 | val loss 1.7606 acc 0.3118 | in  1216.53s\n",
      "\n",
      "Epoch 28/30 started at 20251029_040856 (UTC)\n"
     ]
    },
    {
     "name": "stderr",
     "output_type": "stream",
     "text": [
      "Training  : 100%|████████████████████████████████████████████████████████████████| 16172/16172 [17:59<00:00, 14.99it/s]\n",
      "Validation: 100%|██████████████████████████████████████████████████████████████████| 4043/4043 [02:19<00:00, 28.92it/s]\n"
     ]
    },
    {
     "name": "stdout",
     "output_type": "stream",
     "text": [
      "Epoch 28 | train loss 1.6948 acc 0.3291 | val loss 1.7475 acc 0.3131 | in  1218.87s\n",
      "\n",
      "Epoch 29/30 started at 20251029_042915 (UTC)\n"
     ]
    },
    {
     "name": "stderr",
     "output_type": "stream",
     "text": [
      "Training  : 100%|████████████████████████████████████████████████████████████████| 16172/16172 [18:19<00:00, 14.70it/s]\n",
      "Validation: 100%|██████████████████████████████████████████████████████████████████| 4043/4043 [02:01<00:00, 33.32it/s]\n"
     ]
    },
    {
     "name": "stdout",
     "output_type": "stream",
     "text": [
      "Epoch 29 | train loss 1.6809 acc 0.3339 | val loss 1.7594 acc 0.3086 | in  1221.18s\n",
      "\n",
      "Epoch 30/30 started at 20251029_044936 (UTC)\n"
     ]
    },
    {
     "name": "stderr",
     "output_type": "stream",
     "text": [
      "Training  : 100%|████████████████████████████████████████████████████████████████| 16172/16172 [17:34<00:00, 15.34it/s]\n",
      "Validation: 100%|██████████████████████████████████████████████████████████████████| 4043/4043 [01:57<00:00, 34.51it/s]"
     ]
    },
    {
     "name": "stdout",
     "output_type": "stream",
     "text": [
      "Epoch 30 | train loss 1.6610 acc 0.3400 | val loss 1.7724 acc 0.3095 | in  1171.55s\n",
      "epochs:30 | batch:32 | attn_heads:6 | depth:3 | embed_dim:768\n"
     ]
    },
    {
     "name": "stderr",
     "output_type": "stream",
     "text": [
      "\n"
     ]
    }
   ],
   "source": [
    "device   = \"cuda\" if torch.cuda.is_available() else \"cpu\"\n",
    "print(f\"Training the model on {device}\")\n",
    "\n",
    "\n",
    "epochs     = 30\n",
    "attn_heads = 6\n",
    "depth      = 3\n",
    "embed_dim  = 768\n",
    "\n",
    "print(f\"epochs:{epochs} | batch:{batch_size} | attn_heads:{attn_heads} | depth:{depth} | embed_dim:{embed_dim}\")\n",
    "\n",
    "model_dict_name = os.path.join(os.getcwd(), \"..\", \"models\" , \"pytorch_vit_model_state_dict.pth\")\n",
    "\n",
    "model     = CNN_ViT_Hybrid(num_classes=num_cls,\n",
    "                            heads=attn_heads,\n",
    "                            depth=depth,\n",
    "                            embed_dim=embed_dim\n",
    "                           ).to(device)\n",
    "\n",
    "\n",
    "# ------------------------------------------------------------------ #\n",
    "# loading pre-trained CNN weights\n",
    "model.cnn.load_state_dict(torch.load(pytorch_state_dict_path), strict=False)\n",
    "# ------------------------------------------------------------------ #\n",
    "\n",
    "\n",
    "criterion= nn.CrossEntropyLoss()\n",
    "optimizer= torch.optim.Adam(model.parameters(), lr=lr)\n",
    "\n",
    "\n",
    "best_loss = float('inf')\n",
    "tr_loss_all = []\n",
    "te_loss_all = []\n",
    "tr_acc_all = []\n",
    "te_acc_all = []\n",
    "\n",
    "training_time = []\n",
    "for epoch in range(1, epochs+1):\n",
    "    start_time = time.time()\n",
    "    print(f\"\\nEpoch {epoch:02d}/{epochs:02d} started at {present_time()} (UTC)\")\n",
    "    tr_loss,tr_acc = train(model, train_loader, optimizer, criterion, device)\n",
    "    te_loss,te_acc = evaluate(model, val_loader, criterion, device)\n",
    "    print(f\"Epoch {epoch:02d} | \"\n",
    "          f\"train loss {tr_loss:.4f} acc {tr_acc:.4f} | \"\n",
    "          f\"val loss {te_loss:.4f} acc {te_acc:.4f} |\"\n",
    "          f\" in  {time.time()-start_time:.02f}s\"\n",
    "        )\n",
    "    tr_loss_all.append(tr_loss)\n",
    "    te_loss_all.append(te_loss)\n",
    "    tr_acc_all.append(tr_acc)\n",
    "    te_acc_all.append(te_acc)\n",
    "    training_time.append(time.time() - start_time)\n",
    "    \n",
    "    # Save the best model\n",
    "    avg_te_loss = te_loss\n",
    "    if avg_te_loss < best_loss:\n",
    "        print(f\"Current loss ({avg_te_loss:.04f}) lower than previous best loss ({ best_loss:.04f}), Saving current model state\")\n",
    "        best_loss = avg_te_loss\n",
    "        torch.save(model.state_dict(), model_dict_name)\n",
    "\n",
    "print(f\"epochs:{epochs} | batch:{batch_size} | attn_heads:{attn_heads} | depth:{depth} | embed_dim:{embed_dim}\")\n"
   ]
  },
  {
   "cell_type": "markdown",
   "id": "74aaf178",
   "metadata": {},
   "source": [
    "### 9. Plotting training and validation accuracy and loss\n",
    "\n",
    "This visualization cell creates comprehensive learning curves that provide crucial insights into model training dynamics, performance trends, and potential issues such as overfitting or underfitting.\n",
    "\n",
    "The implementation creates two separate plots for different aspects of training analysis:\n",
    "- **Accuracy plot**: Shows classification performance trends over epochs\n",
    "- **Loss plot**: Reveals optimization dynamics and convergence behavior\n",
    "\n",
    "\n",
    "These plots enable several important diagnostic assessments:\n",
    "- **Overfitting detection**: Widening gap between training and validation metrics\n",
    "- **Underfitting identification**: Both metrics plateau at suboptimal levels\n",
    "- **Training completion**: Convergence indicates when to stop training\n",
    "- **Hyperparameter evaluation**: Curves help assess learning rate, regularization effectiveness\n",
    "\n",
    "These learning curves serve as essential tools for understanding model behavior, diagnosing training issues, and making informed decisions about hyperparameter adjustments, training duration, and model architecture modifications.\n"
   ]
  },
  {
   "cell_type": "code",
   "execution_count": 21,
   "id": "a2d02ce2",
   "metadata": {},
   "outputs": [
    {
     "data": {
      "image/png": "[encoded data removed]",
      "text/plain": [
       "<Figure size 600x400 with 1 Axes>"
      ]
     },
     "metadata": {},
     "output_type": "display_data"
    },
    {
     "data": {
      "image/png": "[encoded data removed]",
      "text/plain": [
       "<Figure size 600x400 with 1 Axes>"
      ]
     },
     "metadata": {},
     "output_type": "display_data"
    }
   ],
   "source": [
    "fig_w, fig_h = 6,4\n",
    "fig, axs = plt.subplots(figsize=(fig_w, fig_h ))\n",
    "\n",
    "# Plot Accuracy on the first subplot\n",
    "axs.plot(tr_acc_all, label='Training Accuracy')\n",
    "axs.plot(te_acc_all, label='Validation Accuracy')\n",
    "axs.set_title('Model Accuracy')\n",
    "axs.set_xlabel('Epochs')\n",
    "axs.set_ylabel('Accuracy')\n",
    "axs.legend()\n",
    "axs.grid(True)\n",
    "\n",
    "plt.tight_layout()\n",
    "plt.show()\n",
    "\n",
    "\n",
    "fig, axs = plt.subplots( figsize=(fig_w, fig_h ))\n",
    "\n",
    "# Plot Loss on the second subplot\n",
    "axs.plot(tr_loss_all, label='Training Loss')\n",
    "axs.plot(te_loss_all, label='Validation Loss')\n",
    "axs.set_title('Model Loss')\n",
    "axs.set_xlabel('Epochs')\n",
    "axs.set_ylabel('Loss')\n",
    "axs.legend()\n",
    "axs.grid(True)\n",
    "\n",
    "plt.tight_layout()\n",
    "plt.show()"
   ]
  },
  {
   "cell_type": "markdown",
   "id": "45f3fa78-1c10-471d-a5c8-77742be65ec8",
   "metadata": {},
   "source": [
    "# Model evaluation"
   ]
  },
  {
   "cell_type": "code",
   "execution_count": null,
   "id": "59cf1409-64d7-4831-b2a6-431a4e673cb2",
   "metadata": {},
   "outputs": [],
   "source": [
    "# To be coded"
   ]
  }
 ],
 "metadata": {
  "kernelspec": {
   "display_name": "Python 3 (ipykernel)",
   "language": "python",
   "name": "python3"
  },
  "language_info": {
   "codemirror_mode": {
    "name": "ipython",
    "version": 3
   },
   "file_extension": ".py",
   "mimetype": "text/x-python",
   "name": "python",
   "nbconvert_exporter": "python",
   "pygments_lexer": "ipython3",
   "version": "3.10.18"
  }
 },
 "nbformat": 4,
 "nbformat_minor": 5
}
